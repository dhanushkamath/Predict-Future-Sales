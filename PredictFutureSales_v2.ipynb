{
  "nbformat": 4,
  "nbformat_minor": 0,
  "metadata": {
    "colab": {
      "name": "PredictFutureSales-v2.ipynb",
      "provenance": [],
      "collapsed_sections": [],
      "toc_visible": true,
      "machine_shape": "hm"
    },
    "kernelspec": {
      "name": "python3",
      "display_name": "Python 3"
    },
    "accelerator": "GPU",
    "widgets": {
      "application/vnd.jupyter.widget-state+json": {
        "27bea069d7144b3eb2012d603969a2b4": {
          "model_module": "@jupyter-widgets/controls",
          "model_name": "HBoxModel",
          "state": {
            "_view_name": "HBoxView",
            "_dom_classes": [],
            "_model_name": "HBoxModel",
            "_view_module": "@jupyter-widgets/controls",
            "_model_module_version": "1.5.0",
            "_view_count": null,
            "_view_module_version": "1.5.0",
            "box_style": "",
            "layout": "IPY_MODEL_a4abbdef37634e7ba4e424f7e1515829",
            "_model_module": "@jupyter-widgets/controls",
            "children": [
              "IPY_MODEL_438c3cd7c9d74d75bc563601915a70d1",
              "IPY_MODEL_a70542e347e3483fbb09ab52bc505f3f"
            ]
          }
        },
        "a4abbdef37634e7ba4e424f7e1515829": {
          "model_module": "@jupyter-widgets/base",
          "model_name": "LayoutModel",
          "state": {
            "_view_name": "LayoutView",
            "grid_template_rows": null,
            "right": null,
            "justify_content": null,
            "_view_module": "@jupyter-widgets/base",
            "overflow": null,
            "_model_module_version": "1.2.0",
            "_view_count": null,
            "flex_flow": null,
            "width": null,
            "min_width": null,
            "border": null,
            "align_items": null,
            "bottom": null,
            "_model_module": "@jupyter-widgets/base",
            "top": null,
            "grid_column": null,
            "overflow_y": null,
            "overflow_x": null,
            "grid_auto_flow": null,
            "grid_area": null,
            "grid_template_columns": null,
            "flex": null,
            "_model_name": "LayoutModel",
            "justify_items": null,
            "grid_row": null,
            "max_height": null,
            "align_content": null,
            "visibility": null,
            "align_self": null,
            "height": null,
            "min_height": null,
            "padding": null,
            "grid_auto_rows": null,
            "grid_gap": null,
            "max_width": null,
            "order": null,
            "_view_module_version": "1.2.0",
            "grid_template_areas": null,
            "object_position": null,
            "object_fit": null,
            "grid_auto_columns": null,
            "margin": null,
            "display": null,
            "left": null
          }
        },
        "438c3cd7c9d74d75bc563601915a70d1": {
          "model_module": "@jupyter-widgets/controls",
          "model_name": "IntProgressModel",
          "state": {
            "_view_name": "ProgressView",
            "style": "IPY_MODEL_411a524445ab4a85b54b8a2b1996cc47",
            "_dom_classes": [],
            "description": "100%",
            "_model_name": "IntProgressModel",
            "bar_style": "success",
            "max": 3,
            "_view_module": "@jupyter-widgets/controls",
            "_model_module_version": "1.5.0",
            "value": 3,
            "_view_count": null,
            "_view_module_version": "1.5.0",
            "orientation": "horizontal",
            "min": 0,
            "description_tooltip": null,
            "_model_module": "@jupyter-widgets/controls",
            "layout": "IPY_MODEL_b755ac3d2f8f4c69acf2ae996e6ef5d2"
          }
        },
        "a70542e347e3483fbb09ab52bc505f3f": {
          "model_module": "@jupyter-widgets/controls",
          "model_name": "HTMLModel",
          "state": {
            "_view_name": "HTMLView",
            "style": "IPY_MODEL_fba8af72316e4f099f471ea62663f4bb",
            "_dom_classes": [],
            "description": "",
            "_model_name": "HTMLModel",
            "placeholder": "​",
            "_view_module": "@jupyter-widgets/controls",
            "_model_module_version": "1.5.0",
            "value": " 3/3 [00:05&lt;00:00,  1.91s/it]",
            "_view_count": null,
            "_view_module_version": "1.5.0",
            "description_tooltip": null,
            "_model_module": "@jupyter-widgets/controls",
            "layout": "IPY_MODEL_49b6c1e1c12647f0924e242e90545e89"
          }
        },
        "411a524445ab4a85b54b8a2b1996cc47": {
          "model_module": "@jupyter-widgets/controls",
          "model_name": "ProgressStyleModel",
          "state": {
            "_view_name": "StyleView",
            "_model_name": "ProgressStyleModel",
            "description_width": "initial",
            "_view_module": "@jupyter-widgets/base",
            "_model_module_version": "1.5.0",
            "_view_count": null,
            "_view_module_version": "1.2.0",
            "bar_color": null,
            "_model_module": "@jupyter-widgets/controls"
          }
        },
        "b755ac3d2f8f4c69acf2ae996e6ef5d2": {
          "model_module": "@jupyter-widgets/base",
          "model_name": "LayoutModel",
          "state": {
            "_view_name": "LayoutView",
            "grid_template_rows": null,
            "right": null,
            "justify_content": null,
            "_view_module": "@jupyter-widgets/base",
            "overflow": null,
            "_model_module_version": "1.2.0",
            "_view_count": null,
            "flex_flow": null,
            "width": null,
            "min_width": null,
            "border": null,
            "align_items": null,
            "bottom": null,
            "_model_module": "@jupyter-widgets/base",
            "top": null,
            "grid_column": null,
            "overflow_y": null,
            "overflow_x": null,
            "grid_auto_flow": null,
            "grid_area": null,
            "grid_template_columns": null,
            "flex": null,
            "_model_name": "LayoutModel",
            "justify_items": null,
            "grid_row": null,
            "max_height": null,
            "align_content": null,
            "visibility": null,
            "align_self": null,
            "height": null,
            "min_height": null,
            "padding": null,
            "grid_auto_rows": null,
            "grid_gap": null,
            "max_width": null,
            "order": null,
            "_view_module_version": "1.2.0",
            "grid_template_areas": null,
            "object_position": null,
            "object_fit": null,
            "grid_auto_columns": null,
            "margin": null,
            "display": null,
            "left": null
          }
        },
        "fba8af72316e4f099f471ea62663f4bb": {
          "model_module": "@jupyter-widgets/controls",
          "model_name": "DescriptionStyleModel",
          "state": {
            "_view_name": "StyleView",
            "_model_name": "DescriptionStyleModel",
            "description_width": "",
            "_view_module": "@jupyter-widgets/base",
            "_model_module_version": "1.5.0",
            "_view_count": null,
            "_view_module_version": "1.2.0",
            "_model_module": "@jupyter-widgets/controls"
          }
        },
        "49b6c1e1c12647f0924e242e90545e89": {
          "model_module": "@jupyter-widgets/base",
          "model_name": "LayoutModel",
          "state": {
            "_view_name": "LayoutView",
            "grid_template_rows": null,
            "right": null,
            "justify_content": null,
            "_view_module": "@jupyter-widgets/base",
            "overflow": null,
            "_model_module_version": "1.2.0",
            "_view_count": null,
            "flex_flow": null,
            "width": null,
            "min_width": null,
            "border": null,
            "align_items": null,
            "bottom": null,
            "_model_module": "@jupyter-widgets/base",
            "top": null,
            "grid_column": null,
            "overflow_y": null,
            "overflow_x": null,
            "grid_auto_flow": null,
            "grid_area": null,
            "grid_template_columns": null,
            "flex": null,
            "_model_name": "LayoutModel",
            "justify_items": null,
            "grid_row": null,
            "max_height": null,
            "align_content": null,
            "visibility": null,
            "align_self": null,
            "height": null,
            "min_height": null,
            "padding": null,
            "grid_auto_rows": null,
            "grid_gap": null,
            "max_width": null,
            "order": null,
            "_view_module_version": "1.2.0",
            "grid_template_areas": null,
            "object_position": null,
            "object_fit": null,
            "grid_auto_columns": null,
            "margin": null,
            "display": null,
            "left": null
          }
        },
        "1f42fa2f385b4ec5a592ced15807fc66": {
          "model_module": "@jupyter-widgets/controls",
          "model_name": "HBoxModel",
          "state": {
            "_view_name": "HBoxView",
            "_dom_classes": [],
            "_model_name": "HBoxModel",
            "_view_module": "@jupyter-widgets/controls",
            "_model_module_version": "1.5.0",
            "_view_count": null,
            "_view_module_version": "1.5.0",
            "box_style": "",
            "layout": "IPY_MODEL_a980fb61a40a47b08e6e6a4d9223e82c",
            "_model_module": "@jupyter-widgets/controls",
            "children": [
              "IPY_MODEL_9b36485ced7d4b53920f41d1b2265fd4",
              "IPY_MODEL_8a5976b2a2d547cf878d5894bc250b4d"
            ]
          }
        },
        "a980fb61a40a47b08e6e6a4d9223e82c": {
          "model_module": "@jupyter-widgets/base",
          "model_name": "LayoutModel",
          "state": {
            "_view_name": "LayoutView",
            "grid_template_rows": null,
            "right": null,
            "justify_content": null,
            "_view_module": "@jupyter-widgets/base",
            "overflow": null,
            "_model_module_version": "1.2.0",
            "_view_count": null,
            "flex_flow": null,
            "width": null,
            "min_width": null,
            "border": null,
            "align_items": null,
            "bottom": null,
            "_model_module": "@jupyter-widgets/base",
            "top": null,
            "grid_column": null,
            "overflow_y": null,
            "overflow_x": null,
            "grid_auto_flow": null,
            "grid_area": null,
            "grid_template_columns": null,
            "flex": null,
            "_model_name": "LayoutModel",
            "justify_items": null,
            "grid_row": null,
            "max_height": null,
            "align_content": null,
            "visibility": null,
            "align_self": null,
            "height": null,
            "min_height": null,
            "padding": null,
            "grid_auto_rows": null,
            "grid_gap": null,
            "max_width": null,
            "order": null,
            "_view_module_version": "1.2.0",
            "grid_template_areas": null,
            "object_position": null,
            "object_fit": null,
            "grid_auto_columns": null,
            "margin": null,
            "display": null,
            "left": null
          }
        },
        "9b36485ced7d4b53920f41d1b2265fd4": {
          "model_module": "@jupyter-widgets/controls",
          "model_name": "IntProgressModel",
          "state": {
            "_view_name": "ProgressView",
            "style": "IPY_MODEL_f94f96068c3d4414a7af618d1c0296ab",
            "_dom_classes": [],
            "description": "100%",
            "_model_name": "IntProgressModel",
            "bar_style": "success",
            "max": 6,
            "_view_module": "@jupyter-widgets/controls",
            "_model_module_version": "1.5.0",
            "value": 6,
            "_view_count": null,
            "_view_module_version": "1.5.0",
            "orientation": "horizontal",
            "min": 0,
            "description_tooltip": null,
            "_model_module": "@jupyter-widgets/controls",
            "layout": "IPY_MODEL_a69bd4cb3c3440158ddd4d047fc370dc"
          }
        },
        "8a5976b2a2d547cf878d5894bc250b4d": {
          "model_module": "@jupyter-widgets/controls",
          "model_name": "HTMLModel",
          "state": {
            "_view_name": "HTMLView",
            "style": "IPY_MODEL_414ba962b2e44165a3bb46a416b47a15",
            "_dom_classes": [],
            "description": "",
            "_model_name": "HTMLModel",
            "placeholder": "​",
            "_view_module": "@jupyter-widgets/controls",
            "_model_module_version": "1.5.0",
            "value": " 6/6 [31:24&lt;00:00, 314.06s/it]",
            "_view_count": null,
            "_view_module_version": "1.5.0",
            "description_tooltip": null,
            "_model_module": "@jupyter-widgets/controls",
            "layout": "IPY_MODEL_7e8ccd5f8dd54f0198dee2b0fd09cdeb"
          }
        },
        "f94f96068c3d4414a7af618d1c0296ab": {
          "model_module": "@jupyter-widgets/controls",
          "model_name": "ProgressStyleModel",
          "state": {
            "_view_name": "StyleView",
            "_model_name": "ProgressStyleModel",
            "description_width": "initial",
            "_view_module": "@jupyter-widgets/base",
            "_model_module_version": "1.5.0",
            "_view_count": null,
            "_view_module_version": "1.2.0",
            "bar_color": null,
            "_model_module": "@jupyter-widgets/controls"
          }
        },
        "a69bd4cb3c3440158ddd4d047fc370dc": {
          "model_module": "@jupyter-widgets/base",
          "model_name": "LayoutModel",
          "state": {
            "_view_name": "LayoutView",
            "grid_template_rows": null,
            "right": null,
            "justify_content": null,
            "_view_module": "@jupyter-widgets/base",
            "overflow": null,
            "_model_module_version": "1.2.0",
            "_view_count": null,
            "flex_flow": null,
            "width": null,
            "min_width": null,
            "border": null,
            "align_items": null,
            "bottom": null,
            "_model_module": "@jupyter-widgets/base",
            "top": null,
            "grid_column": null,
            "overflow_y": null,
            "overflow_x": null,
            "grid_auto_flow": null,
            "grid_area": null,
            "grid_template_columns": null,
            "flex": null,
            "_model_name": "LayoutModel",
            "justify_items": null,
            "grid_row": null,
            "max_height": null,
            "align_content": null,
            "visibility": null,
            "align_self": null,
            "height": null,
            "min_height": null,
            "padding": null,
            "grid_auto_rows": null,
            "grid_gap": null,
            "max_width": null,
            "order": null,
            "_view_module_version": "1.2.0",
            "grid_template_areas": null,
            "object_position": null,
            "object_fit": null,
            "grid_auto_columns": null,
            "margin": null,
            "display": null,
            "left": null
          }
        },
        "414ba962b2e44165a3bb46a416b47a15": {
          "model_module": "@jupyter-widgets/controls",
          "model_name": "DescriptionStyleModel",
          "state": {
            "_view_name": "StyleView",
            "_model_name": "DescriptionStyleModel",
            "description_width": "",
            "_view_module": "@jupyter-widgets/base",
            "_model_module_version": "1.5.0",
            "_view_count": null,
            "_view_module_version": "1.2.0",
            "_model_module": "@jupyter-widgets/controls"
          }
        },
        "7e8ccd5f8dd54f0198dee2b0fd09cdeb": {
          "model_module": "@jupyter-widgets/base",
          "model_name": "LayoutModel",
          "state": {
            "_view_name": "LayoutView",
            "grid_template_rows": null,
            "right": null,
            "justify_content": null,
            "_view_module": "@jupyter-widgets/base",
            "overflow": null,
            "_model_module_version": "1.2.0",
            "_view_count": null,
            "flex_flow": null,
            "width": null,
            "min_width": null,
            "border": null,
            "align_items": null,
            "bottom": null,
            "_model_module": "@jupyter-widgets/base",
            "top": null,
            "grid_column": null,
            "overflow_y": null,
            "overflow_x": null,
            "grid_auto_flow": null,
            "grid_area": null,
            "grid_template_columns": null,
            "flex": null,
            "_model_name": "LayoutModel",
            "justify_items": null,
            "grid_row": null,
            "max_height": null,
            "align_content": null,
            "visibility": null,
            "align_self": null,
            "height": null,
            "min_height": null,
            "padding": null,
            "grid_auto_rows": null,
            "grid_gap": null,
            "max_width": null,
            "order": null,
            "_view_module_version": "1.2.0",
            "grid_template_areas": null,
            "object_position": null,
            "object_fit": null,
            "grid_auto_columns": null,
            "margin": null,
            "display": null,
            "left": null
          }
        }
      }
    }
  },
  "cells": [
    {
      "cell_type": "markdown",
      "metadata": {
        "id": "CorBLs8rwMet",
        "colab_type": "text"
      },
      "source": [
        "# Predict Future Sales | [Kaggle](https://www.kaggle.com/c/competitive-data-science-predict-future-sales)\n"
      ]
    },
    {
      "cell_type": "markdown",
      "metadata": {
        "id": "IXrvGHJsw-Xd",
        "colab_type": "text"
      },
      "source": [
        "## Downloading the dataset from Kaggle"
      ]
    },
    {
      "cell_type": "code",
      "metadata": {
        "id": "keisxskzvNkV",
        "colab_type": "code",
        "colab": {}
      },
      "source": [
        "!pip install -U -q kaggle\n",
        "!mkdir -p ~/.kaggle"
      ],
      "execution_count": 0,
      "outputs": []
    },
    {
      "cell_type": "code",
      "metadata": {
        "id": "qnKyX37DxjNC",
        "colab_type": "code",
        "outputId": "4668612d-d4f9-4010-fc63-a9946948a4fc",
        "colab": {
          "resources": {
            "http://localhost:8080/nbextensions/google.colab/files.js": {
              "data": "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",
              "ok": true,
              "headers": [
                [
                  "content-type",
                  "application/javascript"
                ]
              ],
              "status": 200,
              "status_text": ""
            }
          },
          "base_uri": "https://localhost:8080/",
          "height": 88
        }
      },
      "source": [
        "from google.colab import files\n",
        "files.upload()"
      ],
      "execution_count": 2,
      "outputs": [
        {
          "output_type": "display_data",
          "data": {
            "text/html": [
              "\n",
              "     <input type=\"file\" id=\"files-771fa421-4c4b-4558-a869-59c5abc654ac\" name=\"files[]\" multiple disabled />\n",
              "     <output id=\"result-771fa421-4c4b-4558-a869-59c5abc654ac\">\n",
              "      Upload widget is only available when the cell has been executed in the\n",
              "      current browser session. Please rerun this cell to enable.\n",
              "      </output>\n",
              "      <script src=\"/nbextensions/google.colab/files.js\"></script> "
            ],
            "text/plain": [
              "<IPython.core.display.HTML object>"
            ]
          },
          "metadata": {
            "tags": []
          }
        },
        {
          "output_type": "stream",
          "text": [
            "Saving kaggle.json to kaggle.json\n"
          ],
          "name": "stdout"
        },
        {
          "output_type": "execute_result",
          "data": {
            "text/plain": [
              "{'kaggle.json': b'{\"username\":\"mrhighsenberg\",\"key\":\"062e96956df61b723a057902421dddf1\"}'}"
            ]
          },
          "metadata": {
            "tags": []
          },
          "execution_count": 2
        }
      ]
    },
    {
      "cell_type": "code",
      "metadata": {
        "id": "Lyw-aPPQw6WC",
        "colab_type": "code",
        "outputId": "82b5a644-3862-4c3d-8a95-2fc15047ea44",
        "colab": {
          "base_uri": "https://localhost:8080/",
          "height": 377
        }
      },
      "source": [
        "!cp kaggle.json ~/.kaggle/\n",
        "!kaggle competitions download -c competitive-data-science-predict-future-sales"
      ],
      "execution_count": 3,
      "outputs": [
        {
          "output_type": "stream",
          "text": [
            "Warning: Your Kaggle API key is readable by other users on this system! To fix this, you can run 'chmod 600 /root/.kaggle/kaggle.json'\n",
            "Warning: Looks like you're using an outdated API Version, please consider updating (server 1.5.6 / client 1.5.4)\n",
            "Downloading test.csv.zip to /content\n",
            "  0% 0.00/1.02M [00:00<?, ?B/s]\n",
            "100% 1.02M/1.02M [00:00<00:00, 69.3MB/s]\n",
            "Downloading shops.csv to /content\n",
            "  0% 0.00/2.91k [00:00<?, ?B/s]\n",
            "100% 2.91k/2.91k [00:00<00:00, 2.98MB/s]\n",
            "Downloading sample_submission.csv.zip to /content\n",
            "  0% 0.00/468k [00:00<?, ?B/s]\n",
            "100% 468k/468k [00:00<00:00, 155MB/s]\n",
            "Downloading item_categories.csv to /content\n",
            "  0% 0.00/3.49k [00:00<?, ?B/s]\n",
            "100% 3.49k/3.49k [00:00<00:00, 3.17MB/s]\n",
            "Downloading sales_train.csv.zip to /content\n",
            " 75% 10.0M/13.3M [00:00<00:00, 34.0MB/s]\n",
            "100% 13.3M/13.3M [00:00<00:00, 30.0MB/s]\n",
            "Downloading items.csv.zip to /content\n",
            "  0% 0.00/368k [00:00<?, ?B/s]\n",
            "100% 368k/368k [00:00<00:00, 111MB/s]\n"
          ],
          "name": "stdout"
        }
      ]
    },
    {
      "cell_type": "code",
      "metadata": {
        "id": "jBuhX1hMx66l",
        "colab_type": "code",
        "outputId": "6ac2b0c6-c7b9-4dae-be62-6c9ccf942e6d",
        "colab": {
          "base_uri": "https://localhost:8080/",
          "height": 153
        }
      },
      "source": [
        "!unzip items.csv.zip -d data\n",
        "!unzip sales_train.csv.zip -d data\n",
        "!unzip sample_submission.csv.zip -d data\n",
        "!unzip test.csv.zip -d data\n",
        "!mv *.csv data"
      ],
      "execution_count": 4,
      "outputs": [
        {
          "output_type": "stream",
          "text": [
            "Archive:  items.csv.zip\n",
            "  inflating: data/items.csv          \n",
            "Archive:  sales_train.csv.zip\n",
            "  inflating: data/sales_train.csv    \n",
            "Archive:  sample_submission.csv.zip\n",
            "  inflating: data/sample_submission.csv  \n",
            "Archive:  test.csv.zip\n",
            "  inflating: data/test.csv           \n"
          ],
          "name": "stdout"
        }
      ]
    },
    {
      "cell_type": "code",
      "metadata": {
        "id": "a5viyJ1WzT32",
        "colab_type": "code",
        "colab": {}
      },
      "source": [
        "rm -rf *.zip"
      ],
      "execution_count": 0,
      "outputs": []
    },
    {
      "cell_type": "markdown",
      "metadata": {
        "id": "9jliBALw0Nnf",
        "colab_type": "text"
      },
      "source": [
        "## Loading the data and libraries"
      ]
    },
    {
      "cell_type": "code",
      "metadata": {
        "id": "O9M987OC5rjY",
        "colab_type": "code",
        "colab": {}
      },
      "source": [
        "import numpy as np\n",
        "import pandas as pd \n",
        "import sklearn\n",
        "import scipy.sparse \n",
        "import lightgbm as lgb\n",
        "import seaborn as sns\n",
        "import matplotlib.pyplot as plt\n",
        "import pickle\n",
        "from sklearn.linear_model import LinearRegression\n",
        "from sklearn.metrics import mean_squared_error\n",
        "from sklearn.ensemble import RandomForestRegressor\n",
        "import warnings\n",
        "warnings.filterwarnings('ignore')\n",
        "%matplotlib inline \n",
        "\n",
        "import scipy.sparse \n",
        "from tqdm import tqdm_notebook\n",
        "from itertools import product\n",
        "import gc\n",
        "\n",
        "pd.set_option('display.max_rows', 600)\n",
        "pd.set_option('display.max_columns', 50)\n",
        "sns.set(rc={'figure.figsize':(20, 10)})"
      ],
      "execution_count": 0,
      "outputs": []
    },
    {
      "cell_type": "code",
      "metadata": {
        "id": "lVs54Dqo6CMB",
        "colab_type": "code",
        "colab": {}
      },
      "source": [
        "path = 'data/'\n",
        "\n",
        "# Training data\n",
        "sales = pd.read_csv(path+'sales_train.csv')\n",
        "\n",
        "# Testing data\n",
        "test = pd.read_csv(path+'test.csv')\n",
        "\n",
        "# Additional information\n",
        "items = pd.read_csv(path+'items.csv')\n",
        "item_cats = pd.read_csv(path+'item_categories.csv')\n",
        "shops = pd.read_csv(path+'shops.csv')"
      ],
      "execution_count": 0,
      "outputs": []
    },
    {
      "cell_type": "code",
      "metadata": {
        "id": "DOopPRMy6_y4",
        "colab_type": "code",
        "outputId": "88263285-6c7c-4c82-e4d3-26c439324e03",
        "colab": {
          "base_uri": "https://localhost:8080/",
          "height": 204
        }
      },
      "source": [
        "test.head()"
      ],
      "execution_count": 9,
      "outputs": [
        {
          "output_type": "execute_result",
          "data": {
            "text/html": [
              "<div>\n",
              "<style scoped>\n",
              "    .dataframe tbody tr th:only-of-type {\n",
              "        vertical-align: middle;\n",
              "    }\n",
              "\n",
              "    .dataframe tbody tr th {\n",
              "        vertical-align: top;\n",
              "    }\n",
              "\n",
              "    .dataframe thead th {\n",
              "        text-align: right;\n",
              "    }\n",
              "</style>\n",
              "<table border=\"1\" class=\"dataframe\">\n",
              "  <thead>\n",
              "    <tr style=\"text-align: right;\">\n",
              "      <th></th>\n",
              "      <th>ID</th>\n",
              "      <th>shop_id</th>\n",
              "      <th>item_id</th>\n",
              "    </tr>\n",
              "  </thead>\n",
              "  <tbody>\n",
              "    <tr>\n",
              "      <th>0</th>\n",
              "      <td>0</td>\n",
              "      <td>5</td>\n",
              "      <td>5037</td>\n",
              "    </tr>\n",
              "    <tr>\n",
              "      <th>1</th>\n",
              "      <td>1</td>\n",
              "      <td>5</td>\n",
              "      <td>5320</td>\n",
              "    </tr>\n",
              "    <tr>\n",
              "      <th>2</th>\n",
              "      <td>2</td>\n",
              "      <td>5</td>\n",
              "      <td>5233</td>\n",
              "    </tr>\n",
              "    <tr>\n",
              "      <th>3</th>\n",
              "      <td>3</td>\n",
              "      <td>5</td>\n",
              "      <td>5232</td>\n",
              "    </tr>\n",
              "    <tr>\n",
              "      <th>4</th>\n",
              "      <td>4</td>\n",
              "      <td>5</td>\n",
              "      <td>5268</td>\n",
              "    </tr>\n",
              "  </tbody>\n",
              "</table>\n",
              "</div>"
            ],
            "text/plain": [
              "   ID  shop_id  item_id\n",
              "0   0        5     5037\n",
              "1   1        5     5320\n",
              "2   2        5     5233\n",
              "3   3        5     5232\n",
              "4   4        5     5268"
            ]
          },
          "metadata": {
            "tags": []
          },
          "execution_count": 9
        }
      ]
    },
    {
      "cell_type": "markdown",
      "metadata": {
        "id": "7_P5Gsz9LOCv",
        "colab_type": "text"
      },
      "source": [
        "## EDA "
      ]
    },
    {
      "cell_type": "code",
      "metadata": {
        "id": "Sl1-D_LqINL6",
        "colab_type": "code",
        "outputId": "80f15437-a3bc-4b57-b41c-91e77c0fcf19",
        "colab": {
          "base_uri": "https://localhost:8080/",
          "height": 204
        }
      },
      "source": [
        "test.head(5)"
      ],
      "execution_count": 10,
      "outputs": [
        {
          "output_type": "execute_result",
          "data": {
            "text/html": [
              "<div>\n",
              "<style scoped>\n",
              "    .dataframe tbody tr th:only-of-type {\n",
              "        vertical-align: middle;\n",
              "    }\n",
              "\n",
              "    .dataframe tbody tr th {\n",
              "        vertical-align: top;\n",
              "    }\n",
              "\n",
              "    .dataframe thead th {\n",
              "        text-align: right;\n",
              "    }\n",
              "</style>\n",
              "<table border=\"1\" class=\"dataframe\">\n",
              "  <thead>\n",
              "    <tr style=\"text-align: right;\">\n",
              "      <th></th>\n",
              "      <th>ID</th>\n",
              "      <th>shop_id</th>\n",
              "      <th>item_id</th>\n",
              "    </tr>\n",
              "  </thead>\n",
              "  <tbody>\n",
              "    <tr>\n",
              "      <th>0</th>\n",
              "      <td>0</td>\n",
              "      <td>5</td>\n",
              "      <td>5037</td>\n",
              "    </tr>\n",
              "    <tr>\n",
              "      <th>1</th>\n",
              "      <td>1</td>\n",
              "      <td>5</td>\n",
              "      <td>5320</td>\n",
              "    </tr>\n",
              "    <tr>\n",
              "      <th>2</th>\n",
              "      <td>2</td>\n",
              "      <td>5</td>\n",
              "      <td>5233</td>\n",
              "    </tr>\n",
              "    <tr>\n",
              "      <th>3</th>\n",
              "      <td>3</td>\n",
              "      <td>5</td>\n",
              "      <td>5232</td>\n",
              "    </tr>\n",
              "    <tr>\n",
              "      <th>4</th>\n",
              "      <td>4</td>\n",
              "      <td>5</td>\n",
              "      <td>5268</td>\n",
              "    </tr>\n",
              "  </tbody>\n",
              "</table>\n",
              "</div>"
            ],
            "text/plain": [
              "   ID  shop_id  item_id\n",
              "0   0        5     5037\n",
              "1   1        5     5320\n",
              "2   2        5     5233\n",
              "3   3        5     5232\n",
              "4   4        5     5268"
            ]
          },
          "metadata": {
            "tags": []
          },
          "execution_count": 10
        }
      ]
    },
    {
      "cell_type": "code",
      "metadata": {
        "id": "CyGovbtELIav",
        "colab_type": "code",
        "outputId": "0fbc3fce-8327-42ab-dffb-3a22d7bdb495",
        "colab": {
          "base_uri": "https://localhost:8080/",
          "height": 85
        }
      },
      "source": [
        "test.nunique()"
      ],
      "execution_count": 11,
      "outputs": [
        {
          "output_type": "execute_result",
          "data": {
            "text/plain": [
              "ID         214200\n",
              "shop_id        42\n",
              "item_id      5100\n",
              "dtype: int64"
            ]
          },
          "metadata": {
            "tags": []
          },
          "execution_count": 11
        }
      ]
    },
    {
      "cell_type": "code",
      "metadata": {
        "id": "Bw4ObRFJLMo_",
        "colab_type": "code",
        "outputId": "067e34e7-00e3-4bc9-d7f1-25f26befba30",
        "colab": {
          "base_uri": "https://localhost:8080/",
          "height": 136
        }
      },
      "source": [
        "sales.nunique()"
      ],
      "execution_count": 14,
      "outputs": [
        {
          "output_type": "execute_result",
          "data": {
            "text/plain": [
              "date               1034\n",
              "date_block_num       34\n",
              "shop_id              60\n",
              "item_id           21807\n",
              "item_price        19993\n",
              "item_cnt_day        198\n",
              "dtype: int64"
            ]
          },
          "metadata": {
            "tags": []
          },
          "execution_count": 14
        }
      ]
    },
    {
      "cell_type": "markdown",
      "metadata": {
        "id": "Hop7MSOkvG3u",
        "colab_type": "text"
      },
      "source": [
        "### Data Visualizations"
      ]
    },
    {
      "cell_type": "code",
      "metadata": {
        "id": "tn7G2uN-pl2O",
        "colab_type": "code",
        "colab": {
          "base_uri": "https://localhost:8080/",
          "height": 537
        },
        "outputId": "8b398165-0ad5-43d2-8662-c6c011ba8cf7"
      },
      "source": [
        "sns.set_context(\"notebook\", font_scale=1.4)\n",
        "sales_month = sales.groupby(['date_block_num']).sum().item_cnt_day.reset_index()\n",
        "sales_month.columns = ['date_block_num', 'sum_items_sold']\n",
        "sns.barplot(x ='date_block_num', y='sum_items_sold', \n",
        "            data=sales_month.reset_index());\n",
        "plt.plot(sales_month.sum_items_sold)\n",
        "plt.title('Distribution of total sales per month')\n",
        "del sales_month"
      ],
      "execution_count": 27,
      "outputs": [
        {
          "output_type": "display_data",
          "data": {
            "image/png": "[encoded data removed]",
            "text/plain": [
              "<Figure size 1440x720 with 1 Axes>"
            ]
          },
          "metadata": {
            "tags": []
          }
        }
      ]
    },
    {
      "cell_type": "code",
      "metadata": {
        "id": "V8yyc0XSs36d",
        "colab_type": "code",
        "colab": {
          "base_uri": "https://localhost:8080/",
          "height": 541
        },
        "outputId": "d1f2be60-ded5-4bc8-e26a-a87910abaf71"
      },
      "source": [
        "comb_shop_item = sales[['date_block_num', 'shop_id', \n",
        "                                     'item_id']].drop_duplicates().groupby('date_block_num').size().reset_index()\n",
        "comb_shop_item.columns = ['date_block_num', 'item-shop_comb']\n",
        "sns.barplot(x ='date_block_num', y='item-shop_comb', data=comb_shop_item);\n",
        "plt.plot(comb_shop_item['item-shop_comb']);\n",
        "plt.title('Number of combinations of shop-item in each month')\n",
        "del comb_shop_item\n"
      ],
      "execution_count": 28,
      "outputs": [
        {
          "output_type": "display_data",
          "data": {
            "image/png": "[encoded data removed]",
            "text/plain": [
              "<Figure size 1440x720 with 1 Axes>"
            ]
          },
          "metadata": {
            "tags": []
          }
        }
      ]
    },
    {
      "cell_type": "code",
      "metadata": {
        "id": "zDhMUEVnvB9G",
        "colab_type": "code",
        "colab": {
          "base_uri": "https://localhost:8080/",
          "height": 538
        },
        "outputId": "a34ff0bc-01cb-48f4-8360-311714bdcc0b"
      },
      "source": [
        "sns.set_context(\"talk\", font_scale=1)\n",
        "sales_month_shop_id = pd.DataFrame(sales.groupby(['shop_id']).sum().item_cnt_day).reset_index()\n",
        "sales_month_shop_id.columns = ['shop_id', 'sum_sales']\n",
        "sns.barplot(x ='shop_id', y='sum_sales', data=sales_month_shop_id, palette='Paired')\n",
        "plt.title('Distribution of total sales per shop');\n",
        "del sales_month_shop_id"
      ],
      "execution_count": 30,
      "outputs": [
        {
          "output_type": "display_data",
          "data": {
            "image/png": "[encoded data removed]",
            "text/plain": [
              "<Figure size 1440x720 with 1 Axes>"
            ]
          },
          "metadata": {
            "tags": []
          }
        }
      ]
    },
    {
      "cell_type": "code",
      "metadata": {
        "id": "gBb_5qXwvJ9t",
        "colab_type": "code",
        "colab": {
          "base_uri": "https://localhost:8080/",
          "height": 519
        },
        "outputId": "19530f6a-6cd9-4bb7-e0b7-883cbcd19348"
      },
      "source": [
        "sns.set_context(\"talk\", font_scale=1.4)\n",
        "sales_item_id = pd.DataFrame(sales.groupby(['item_id']).sum().item_cnt_day)\n",
        "plt.xlabel('item id')\n",
        "plt.ylabel('sales')\n",
        "plt.plot(sales_item_id);"
      ],
      "execution_count": 31,
      "outputs": [
        {
          "output_type": "display_data",
          "data": {
            "image/png": "[encoded data removed]",
            "text/plain": [
              "<Figure size 1440x720 with 1 Axes>"
            ]
          },
          "metadata": {
            "tags": []
          }
        }
      ]
    },
    {
      "cell_type": "markdown",
      "metadata": {
        "id": "3z1IHUZuvK8y",
        "colab_type": "text"
      },
      "source": [
        "It is observed that there is one outlier whose sales are phenomenally higher than the others."
      ]
    },
    {
      "cell_type": "markdown",
      "metadata": {
        "id": "Dsg6iPTTvV4m",
        "colab_type": "text"
      },
      "source": [
        "## Feature Engineering"
      ]
    },
    {
      "cell_type": "markdown",
      "metadata": {
        "id": "JbQBPeVXvX05",
        "colab_type": "text"
      },
      "source": [
        "#### Aggregation and Lagged Features"
      ]
    },
    {
      "cell_type": "code",
      "metadata": {
        "id": "ENSOO-zXuvje",
        "colab_type": "code",
        "colab": {}
      },
      "source": [
        "# Defining helper functions\n",
        "\n",
        "# To save memory by downcasting to int32\n",
        "def downcast_dtypes(df):\n",
        "    \n",
        "    '''\n",
        "        Changes column types in the dataframe: \n",
        "                \n",
        "                `float64` type to `float32`\n",
        "                `int64`   type to `int32`\n",
        "    '''\n",
        "    \n",
        "    # Select columns to downcast\n",
        "    float_cols = [c for c in df if df[c].dtype == \"float64\"]\n",
        "    int_cols =   [c for c in df if df[c].dtype == \"int64\"]\n",
        "    \n",
        "    # Downcast\n",
        "    df[float_cols] = df[float_cols].astype(np.float32)\n",
        "    df[int_cols]   = df[int_cols].astype(np.int32)\n",
        "    \n",
        "    return df\n",
        "\n",
        "# To compute features discussed in the course - aggregation, lagged features\n",
        "def get_feature_matrix(train, test, items, list_lags, date_block_threshold):\n",
        "  \n",
        "    # Create \"grid\" with columns\n",
        "    groupby_cols = ['shop_id', 'item_id', 'date_block_num']\n",
        "\n",
        "    # For every month we create a grid from all shops/items combinations from that month\n",
        "    grid = [] \n",
        "    new_items = pd.DataFrame()\n",
        "    cur_items_aux=np.array([])\n",
        "    for block_num in train['date_block_num'].unique():\n",
        "        cur_shops = train.loc[sales['date_block_num'] == block_num, 'shop_id'].unique()\n",
        "        cur_items = train.loc[sales['date_block_num'] == block_num, 'item_id'].append(pd.Series(cur_items_aux)).unique()\n",
        "        cur_items_aux = cur_items[pd.Series(cur_items).isin(test.item_id)]\n",
        "        grid.append(np.array(list(product(*[cur_shops, cur_items, [block_num]])),dtype='int32'))\n",
        "\n",
        "    # Turn the grid into a dataframe\n",
        "    grid = pd.DataFrame(np.vstack(grid), columns = groupby_cols,dtype=np.int32)\n",
        "            \n",
        "    # Add submission shop_id-item_id in order to test predictions\n",
        "    test['date_block_num'] = 34\n",
        "    grid = grid.append(test[['shop_id', 'item_id', 'date_block_num']])\n",
        "\n",
        "    gb = train.groupby(by=groupby_cols, as_index=False).agg({'item_cnt_day': ['sum']})\n",
        "    gb.columns = [val[0] if val[-1] == '' else '_'.join(val) for val in gb.columns.values]\n",
        "    gb.rename(columns={'item_cnt_day_sum': 'target'}, inplace=True)\n",
        "    all_data = pd.merge(grid, gb, how='left', on=groupby_cols).fillna(0)\n",
        "\n",
        "    gb = train.groupby(by=['date_block_num', 'item_id'], as_index=False).agg({'item_cnt_day': ['sum']})\n",
        "    gb.columns = [val[0] if val[-1] == '' else '_'.join(val) for val in gb.columns.values]\n",
        "    gb.rename(columns={'item_cnt_day_sum': 'target_item'}, inplace=True)\n",
        "    all_data = pd.merge(all_data, gb, how='left', on=['date_block_num', 'item_id']).fillna(0)\n",
        "\n",
        "    gb = train.groupby(by=['date_block_num', 'shop_id'], as_index=False).agg({'item_cnt_day': ['sum']})\n",
        "    gb.columns = [val[0] if val[-1] == '' else '_'.join(val) for val in gb.columns.values]\n",
        "    gb.rename(columns={'item_cnt_day_sum': 'target_shop'}, inplace=True)\n",
        "    all_data = pd.merge(all_data, gb, how='left', on=['date_block_num', 'shop_id'])\n",
        "\n",
        "    # # Groupby data to get shop-item-month aggregates\n",
        "    # gb = sales.groupby(index_cols,as_index=False).agg({'item_cnt_day':{'target':'sum'}})\n",
        "    # # Fix column names\n",
        "    # gb.columns = [col[0] if col[-1]=='' else col[-1] for col in gb.columns.values] \n",
        "    # # Join it to the grid\n",
        "    # all_data = pd.merge(grid, gb, how='left', on=index_cols).fillna(0)\n",
        "\n",
        "    # # Same as above but with shop-month aggregates\n",
        "    # gb = sales.groupby(['shop_id', 'date_block_num'],as_index=False).agg({'item_cnt_day':{'target_shop':'sum'}})\n",
        "    # gb.columns = [col[0] if col[-1]=='' else col[-1] for col in gb.columns.values]\n",
        "    # all_data = pd.merge(all_data, gb, how='left', on=['shop_id', 'date_block_num']).fillna(0)\n",
        "\n",
        "    # # Same as above but with item-month aggregates\n",
        "    # gb = sales.groupby(['item_id', 'date_block_num'],as_index=False).agg({'item_cnt_day':{'target_item':'sum'}})\n",
        "    # gb.columns = [col[0] if col[-1] == '' else col[-1] for col in gb.columns.values]\n",
        "    # all_data = pd.merge(all_data, gb, how='left', on=['item_id', 'date_block_num']).fillna(0)\n",
        "\n",
        "    # Downcast dtypes from 64 to 32 bit to save memory\n",
        "    all_data = downcast_dtypes(all_data)\n",
        "    del grid, gb \n",
        "    gc.collect()\n",
        "    # List of columns that we will use to create lags\n",
        "    cols_to_rename = list(all_data.columns.difference(groupby_cols)) \n",
        "\n",
        "    shift_range = list_lags\n",
        "\n",
        "    for month_shift in tqdm_notebook(shift_range):\n",
        "        train_shift = all_data[groupby_cols + cols_to_rename].copy()\n",
        "    \n",
        "        train_shift['date_block_num'] = train_shift['date_block_num'] + month_shift\n",
        "    \n",
        "        foo = lambda x: '{}_lag_{}'.format(x, month_shift) if x in cols_to_rename else x\n",
        "        train_shift = train_shift.rename(columns=foo)\n",
        "\n",
        "        all_data = pd.merge(all_data, train_shift, on=groupby_cols, how='left').fillna(0)\n",
        "\n",
        "    del train_shift\n",
        "\n",
        "    # Don't use old data from year 2013\n",
        "    all_data = all_data[all_data['date_block_num'] >= date_block_threshold] \n",
        "\n",
        "    # List of all lagged features\n",
        "    fit_cols = [col for col in all_data.columns if col[-1] in [str(item) for item in shift_range]] \n",
        "    # We will drop these at fitting stage\n",
        "    to_drop_cols = list(set(list(all_data.columns)) - (set(fit_cols)|set(groupby_cols))) + ['date_block_num'] \n",
        "\n",
        "    # Category for each item\n",
        "    item_category_mapping = items[['item_id','item_category_id']].drop_duplicates()\n",
        "\n",
        "    all_data = pd.merge(all_data, item_category_mapping, how='left', on='item_id')\n",
        "    all_data = downcast_dtypes(all_data)\n",
        "    gc.collect();\n",
        "    \n",
        "    return [all_data, to_drop_cols]"
      ],
      "execution_count": 0,
      "outputs": []
    },
    {
      "cell_type": "code",
      "metadata": {
        "id": "ixPydcUVvmsL",
        "colab_type": "code",
        "colab": {
          "base_uri": "https://localhost:8080/",
          "height": 66,
          "referenced_widgets": [
            "27bea069d7144b3eb2012d603969a2b4",
            "a4abbdef37634e7ba4e424f7e1515829",
            "438c3cd7c9d74d75bc563601915a70d1",
            "a70542e347e3483fbb09ab52bc505f3f",
            "411a524445ab4a85b54b8a2b1996cc47",
            "b755ac3d2f8f4c69acf2ae996e6ef5d2",
            "fba8af72316e4f099f471ea62663f4bb",
            "49b6c1e1c12647f0924e242e90545e89"
          ]
        },
        "outputId": "9a61ec01-2167-41ac-9db4-f6f7512d1104"
      },
      "source": [
        "list_lags = [1, 2, 3]\n",
        "date_block_threshold = 12\n",
        "sales_for_modelling = sales[sales.item_id.isin(test.item_id)]\n",
        "[all_data, to_drop_cols]  = get_feature_matrix(sales_for_modelling, test, items, list_lags, date_block_threshold)"
      ],
      "execution_count": 51,
      "outputs": [
        {
          "output_type": "display_data",
          "data": {
            "application/vnd.jupyter.widget-view+json": {
              "model_id": "27bea069d7144b3eb2012d603969a2b4",
              "version_minor": 0,
              "version_major": 2
            },
            "text/plain": [
              "HBox(children=(IntProgress(value=0, max=3), HTML(value='')))"
            ]
          },
          "metadata": {
            "tags": []
          }
        },
        {
          "output_type": "stream",
          "text": [
            "\n"
          ],
          "name": "stdout"
        }
      ]
    },
    {
      "cell_type": "markdown",
      "metadata": {
        "id": "BfskfGXCyMmk",
        "colab_type": "text"
      },
      "source": [
        "### Mean Encodings"
      ]
    },
    {
      "cell_type": "code",
      "metadata": {
        "id": "8NnloOtUyMNM",
        "colab_type": "code",
        "colab": {}
      },
      "source": [
        "mean_enc_item_cat = pd.DataFrame(all_data.groupby(['shop_id', \n",
        "                                                    'item_category_id']).target.agg(['mean']).reset_index())\n",
        "mean_enc_item_cat.columns = ['shop_id', 'item_category_id', 'mean_enc_cat_id']\n",
        "all_data = pd.merge(all_data, mean_enc_item_cat, how='left', on=['shop_id', 'item_category_id'])\n",
        "del mean_enc_item_cat\n",
        "all_data = downcast_dtypes(all_data)"
      ],
      "execution_count": 0,
      "outputs": []
    },
    {
      "cell_type": "code",
      "metadata": {
        "id": "ccVONTjCx7dI",
        "colab_type": "code",
        "colab": {
          "base_uri": "https://localhost:8080/",
          "height": 224
        },
        "outputId": "9c4ad572-e2bf-406d-f556-2804aaa0311c"
      },
      "source": [
        "all_data.head()"
      ],
      "execution_count": 57,
      "outputs": [
        {
          "output_type": "execute_result",
          "data": {
            "text/html": [
              "<div>\n",
              "<style scoped>\n",
              "    .dataframe tbody tr th:only-of-type {\n",
              "        vertical-align: middle;\n",
              "    }\n",
              "\n",
              "    .dataframe tbody tr th {\n",
              "        vertical-align: top;\n",
              "    }\n",
              "\n",
              "    .dataframe thead th {\n",
              "        text-align: right;\n",
              "    }\n",
              "</style>\n",
              "<table border=\"1\" class=\"dataframe\">\n",
              "  <thead>\n",
              "    <tr style=\"text-align: right;\">\n",
              "      <th></th>\n",
              "      <th>shop_id</th>\n",
              "      <th>item_id</th>\n",
              "      <th>date_block_num</th>\n",
              "      <th>target</th>\n",
              "      <th>target_item</th>\n",
              "      <th>target_shop</th>\n",
              "      <th>target_lag_1</th>\n",
              "      <th>target_item_lag_1</th>\n",
              "      <th>target_shop_lag_1</th>\n",
              "      <th>target_lag_2</th>\n",
              "      <th>target_item_lag_2</th>\n",
              "      <th>target_shop_lag_2</th>\n",
              "      <th>target_lag_3</th>\n",
              "      <th>target_item_lag_3</th>\n",
              "      <th>target_shop_lag_3</th>\n",
              "      <th>item_category_id</th>\n",
              "      <th>mean_enc_cat_id</th>\n",
              "    </tr>\n",
              "  </thead>\n",
              "  <tbody>\n",
              "    <tr>\n",
              "      <th>0</th>\n",
              "      <td>54</td>\n",
              "      <td>10297</td>\n",
              "      <td>12</td>\n",
              "      <td>4.0</td>\n",
              "      <td>23.0</td>\n",
              "      <td>3416.0</td>\n",
              "      <td>3.0</td>\n",
              "      <td>42.0</td>\n",
              "      <td>4282.0</td>\n",
              "      <td>0.0</td>\n",
              "      <td>2.0</td>\n",
              "      <td>3085.0</td>\n",
              "      <td>0.0</td>\n",
              "      <td>0.0</td>\n",
              "      <td>0.0</td>\n",
              "      <td>37</td>\n",
              "      <td>0.512281</td>\n",
              "    </tr>\n",
              "    <tr>\n",
              "      <th>1</th>\n",
              "      <td>54</td>\n",
              "      <td>10298</td>\n",
              "      <td>12</td>\n",
              "      <td>14.0</td>\n",
              "      <td>182.0</td>\n",
              "      <td>3416.0</td>\n",
              "      <td>21.0</td>\n",
              "      <td>369.0</td>\n",
              "      <td>4282.0</td>\n",
              "      <td>119.0</td>\n",
              "      <td>1309.0</td>\n",
              "      <td>3085.0</td>\n",
              "      <td>7.0</td>\n",
              "      <td>144.0</td>\n",
              "      <td>2464.0</td>\n",
              "      <td>40</td>\n",
              "      <td>1.120868</td>\n",
              "    </tr>\n",
              "    <tr>\n",
              "      <th>2</th>\n",
              "      <td>54</td>\n",
              "      <td>10300</td>\n",
              "      <td>12</td>\n",
              "      <td>3.0</td>\n",
              "      <td>26.0</td>\n",
              "      <td>3416.0</td>\n",
              "      <td>1.0</td>\n",
              "      <td>54.0</td>\n",
              "      <td>4282.0</td>\n",
              "      <td>31.0</td>\n",
              "      <td>361.0</td>\n",
              "      <td>3085.0</td>\n",
              "      <td>0.0</td>\n",
              "      <td>53.0</td>\n",
              "      <td>2464.0</td>\n",
              "      <td>37</td>\n",
              "      <td>0.512281</td>\n",
              "    </tr>\n",
              "    <tr>\n",
              "      <th>3</th>\n",
              "      <td>54</td>\n",
              "      <td>10292</td>\n",
              "      <td>12</td>\n",
              "      <td>9.0</td>\n",
              "      <td>93.0</td>\n",
              "      <td>3416.0</td>\n",
              "      <td>8.0</td>\n",
              "      <td>156.0</td>\n",
              "      <td>4282.0</td>\n",
              "      <td>16.0</td>\n",
              "      <td>203.0</td>\n",
              "      <td>3085.0</td>\n",
              "      <td>15.0</td>\n",
              "      <td>279.0</td>\n",
              "      <td>2464.0</td>\n",
              "      <td>40</td>\n",
              "      <td>1.120868</td>\n",
              "    </tr>\n",
              "    <tr>\n",
              "      <th>4</th>\n",
              "      <td>54</td>\n",
              "      <td>10143</td>\n",
              "      <td>12</td>\n",
              "      <td>1.0</td>\n",
              "      <td>12.0</td>\n",
              "      <td>3416.0</td>\n",
              "      <td>1.0</td>\n",
              "      <td>18.0</td>\n",
              "      <td>4282.0</td>\n",
              "      <td>0.0</td>\n",
              "      <td>2.0</td>\n",
              "      <td>3085.0</td>\n",
              "      <td>0.0</td>\n",
              "      <td>0.0</td>\n",
              "      <td>0.0</td>\n",
              "      <td>55</td>\n",
              "      <td>0.902726</td>\n",
              "    </tr>\n",
              "  </tbody>\n",
              "</table>\n",
              "</div>"
            ],
            "text/plain": [
              "   shop_id  item_id  date_block_num  target  target_item  target_shop  \\\n",
              "0       54    10297              12     4.0         23.0       3416.0   \n",
              "1       54    10298              12    14.0        182.0       3416.0   \n",
              "2       54    10300              12     3.0         26.0       3416.0   \n",
              "3       54    10292              12     9.0         93.0       3416.0   \n",
              "4       54    10143              12     1.0         12.0       3416.0   \n",
              "\n",
              "   target_lag_1  target_item_lag_1  target_shop_lag_1  target_lag_2  \\\n",
              "0           3.0               42.0             4282.0           0.0   \n",
              "1          21.0              369.0             4282.0         119.0   \n",
              "2           1.0               54.0             4282.0          31.0   \n",
              "3           8.0              156.0             4282.0          16.0   \n",
              "4           1.0               18.0             4282.0           0.0   \n",
              "\n",
              "   target_item_lag_2  target_shop_lag_2  target_lag_3  target_item_lag_3  \\\n",
              "0                2.0             3085.0           0.0                0.0   \n",
              "1             1309.0             3085.0           7.0              144.0   \n",
              "2              361.0             3085.0           0.0               53.0   \n",
              "3              203.0             3085.0          15.0              279.0   \n",
              "4                2.0             3085.0           0.0                0.0   \n",
              "\n",
              "   target_shop_lag_3  item_category_id  mean_enc_cat_id  \n",
              "0                0.0                37         0.512281  \n",
              "1             2464.0                40         1.120868  \n",
              "2             2464.0                37         0.512281  \n",
              "3             2464.0                40         1.120868  \n",
              "4                0.0                55         0.902726  "
            ]
          },
          "metadata": {
            "tags": []
          },
          "execution_count": 57
        }
      ]
    },
    {
      "cell_type": "markdown",
      "metadata": {
        "id": "Lg52aQT8zgm-",
        "colab_type": "text"
      },
      "source": [
        "### Validation Strategy"
      ]
    },
    {
      "cell_type": "code",
      "metadata": {
        "id": "RBeEiSV5zixR",
        "colab_type": "code",
        "colab": {
          "base_uri": "https://localhost:8080/",
          "height": 224
        },
        "outputId": "b69d154c-0a94-40f7-c086-b3921cd617a3"
      },
      "source": [
        "# Creating a placeholder dataframe for submission\n",
        "sub_data = all_data[all_data.date_block_num==34].fillna(0)\n",
        "all_data = all_data[all_data.date_block_num<34].fillna(0)\n",
        "sub_data.head()"
      ],
      "execution_count": 58,
      "outputs": [
        {
          "output_type": "execute_result",
          "data": {
            "text/html": [
              "<div>\n",
              "<style scoped>\n",
              "    .dataframe tbody tr th:only-of-type {\n",
              "        vertical-align: middle;\n",
              "    }\n",
              "\n",
              "    .dataframe tbody tr th {\n",
              "        vertical-align: top;\n",
              "    }\n",
              "\n",
              "    .dataframe thead th {\n",
              "        text-align: right;\n",
              "    }\n",
              "</style>\n",
              "<table border=\"1\" class=\"dataframe\">\n",
              "  <thead>\n",
              "    <tr style=\"text-align: right;\">\n",
              "      <th></th>\n",
              "      <th>shop_id</th>\n",
              "      <th>item_id</th>\n",
              "      <th>date_block_num</th>\n",
              "      <th>target</th>\n",
              "      <th>target_item</th>\n",
              "      <th>target_shop</th>\n",
              "      <th>target_lag_1</th>\n",
              "      <th>target_item_lag_1</th>\n",
              "      <th>target_shop_lag_1</th>\n",
              "      <th>target_lag_2</th>\n",
              "      <th>target_item_lag_2</th>\n",
              "      <th>target_shop_lag_2</th>\n",
              "      <th>target_lag_3</th>\n",
              "      <th>target_item_lag_3</th>\n",
              "      <th>target_shop_lag_3</th>\n",
              "      <th>item_category_id</th>\n",
              "      <th>mean_enc_cat_id</th>\n",
              "    </tr>\n",
              "  </thead>\n",
              "  <tbody>\n",
              "    <tr>\n",
              "      <th>3110574</th>\n",
              "      <td>5</td>\n",
              "      <td>5037</td>\n",
              "      <td>34</td>\n",
              "      <td>0.0</td>\n",
              "      <td>0.0</td>\n",
              "      <td>0.0</td>\n",
              "      <td>0.0</td>\n",
              "      <td>25.0</td>\n",
              "      <td>1032.0</td>\n",
              "      <td>1.0</td>\n",
              "      <td>110.0</td>\n",
              "      <td>1041.0</td>\n",
              "      <td>3.0</td>\n",
              "      <td>119.0</td>\n",
              "      <td>1218.0</td>\n",
              "      <td>19</td>\n",
              "      <td>0.663426</td>\n",
              "    </tr>\n",
              "    <tr>\n",
              "      <th>3110575</th>\n",
              "      <td>5</td>\n",
              "      <td>5320</td>\n",
              "      <td>34</td>\n",
              "      <td>0.0</td>\n",
              "      <td>0.0</td>\n",
              "      <td>0.0</td>\n",
              "      <td>0.0</td>\n",
              "      <td>0.0</td>\n",
              "      <td>0.0</td>\n",
              "      <td>0.0</td>\n",
              "      <td>0.0</td>\n",
              "      <td>0.0</td>\n",
              "      <td>0.0</td>\n",
              "      <td>0.0</td>\n",
              "      <td>0.0</td>\n",
              "      <td>55</td>\n",
              "      <td>0.223282</td>\n",
              "    </tr>\n",
              "    <tr>\n",
              "      <th>3110576</th>\n",
              "      <td>5</td>\n",
              "      <td>5233</td>\n",
              "      <td>34</td>\n",
              "      <td>0.0</td>\n",
              "      <td>0.0</td>\n",
              "      <td>0.0</td>\n",
              "      <td>1.0</td>\n",
              "      <td>42.0</td>\n",
              "      <td>1032.0</td>\n",
              "      <td>3.0</td>\n",
              "      <td>80.0</td>\n",
              "      <td>1041.0</td>\n",
              "      <td>1.0</td>\n",
              "      <td>150.0</td>\n",
              "      <td>1218.0</td>\n",
              "      <td>19</td>\n",
              "      <td>0.663426</td>\n",
              "    </tr>\n",
              "    <tr>\n",
              "      <th>3110577</th>\n",
              "      <td>5</td>\n",
              "      <td>5232</td>\n",
              "      <td>34</td>\n",
              "      <td>0.0</td>\n",
              "      <td>0.0</td>\n",
              "      <td>0.0</td>\n",
              "      <td>0.0</td>\n",
              "      <td>28.0</td>\n",
              "      <td>1032.0</td>\n",
              "      <td>0.0</td>\n",
              "      <td>48.0</td>\n",
              "      <td>1041.0</td>\n",
              "      <td>1.0</td>\n",
              "      <td>65.0</td>\n",
              "      <td>1218.0</td>\n",
              "      <td>23</td>\n",
              "      <td>0.465819</td>\n",
              "    </tr>\n",
              "    <tr>\n",
              "      <th>3110578</th>\n",
              "      <td>5</td>\n",
              "      <td>5268</td>\n",
              "      <td>34</td>\n",
              "      <td>0.0</td>\n",
              "      <td>0.0</td>\n",
              "      <td>0.0</td>\n",
              "      <td>0.0</td>\n",
              "      <td>0.0</td>\n",
              "      <td>0.0</td>\n",
              "      <td>0.0</td>\n",
              "      <td>0.0</td>\n",
              "      <td>0.0</td>\n",
              "      <td>0.0</td>\n",
              "      <td>0.0</td>\n",
              "      <td>0.0</td>\n",
              "      <td>20</td>\n",
              "      <td>1.095659</td>\n",
              "    </tr>\n",
              "  </tbody>\n",
              "</table>\n",
              "</div>"
            ],
            "text/plain": [
              "         shop_id  item_id  date_block_num  target  target_item  target_shop  \\\n",
              "3110574        5     5037              34     0.0          0.0          0.0   \n",
              "3110575        5     5320              34     0.0          0.0          0.0   \n",
              "3110576        5     5233              34     0.0          0.0          0.0   \n",
              "3110577        5     5232              34     0.0          0.0          0.0   \n",
              "3110578        5     5268              34     0.0          0.0          0.0   \n",
              "\n",
              "         target_lag_1  target_item_lag_1  target_shop_lag_1  target_lag_2  \\\n",
              "3110574           0.0               25.0             1032.0           1.0   \n",
              "3110575           0.0                0.0                0.0           0.0   \n",
              "3110576           1.0               42.0             1032.0           3.0   \n",
              "3110577           0.0               28.0             1032.0           0.0   \n",
              "3110578           0.0                0.0                0.0           0.0   \n",
              "\n",
              "         target_item_lag_2  target_shop_lag_2  target_lag_3  \\\n",
              "3110574              110.0             1041.0           3.0   \n",
              "3110575                0.0                0.0           0.0   \n",
              "3110576               80.0             1041.0           1.0   \n",
              "3110577               48.0             1041.0           1.0   \n",
              "3110578                0.0                0.0           0.0   \n",
              "\n",
              "         target_item_lag_3  target_shop_lag_3  item_category_id  \\\n",
              "3110574              119.0             1218.0                19   \n",
              "3110575                0.0                0.0                55   \n",
              "3110576              150.0             1218.0                19   \n",
              "3110577               65.0             1218.0                23   \n",
              "3110578                0.0                0.0                20   \n",
              "\n",
              "         mean_enc_cat_id  \n",
              "3110574         0.663426  \n",
              "3110575         0.223282  \n",
              "3110576         0.663426  \n",
              "3110577         0.465819  \n",
              "3110578         1.095659  "
            ]
          },
          "metadata": {
            "tags": []
          },
          "execution_count": 58
        }
      ]
    },
    {
      "cell_type": "code",
      "metadata": {
        "id": "uuGDopSK0Ipa",
        "colab_type": "code",
        "colab": {}
      },
      "source": [
        "# Using 33rd month as validation\n",
        "dates = all_data['date_block_num']\n",
        "boolean_test = (dates.isin([33])) # & (boolean)\n",
        "boolean_train = ~boolean_test\n",
        "dates_train = dates[boolean_train]\n",
        "dates_val  = dates[boolean_test]\n",
        "\n",
        "X_train = all_data.loc[boolean_train].drop(to_drop_cols, axis=1)\n",
        "X_val =  all_data.loc[boolean_test].drop(to_drop_cols, axis=1)\n",
        "\n",
        "y_train = all_data.loc[boolean_train, 'target'].values\n",
        "y_val =  all_data.loc[boolean_test, 'target'].values"
      ],
      "execution_count": 0,
      "outputs": []
    },
    {
      "cell_type": "code",
      "metadata": {
        "id": "7dnOqoi80KcV",
        "colab_type": "code",
        "colab": {
          "base_uri": "https://localhost:8080/",
          "height": 51
        },
        "outputId": "dc96bb84-82d8-497a-eff4-9769074876db"
      },
      "source": [
        "print('X_train shape is ' + str(X_train.shape))\n",
        "print('X_val shape is ' + str(X_val.shape))"
      ],
      "execution_count": 60,
      "outputs": [
        {
          "output_type": "stream",
          "text": [
            "X_train shape is (2902146, 13)\n",
            "X_val shape is (208428, 13)\n"
          ],
          "name": "stdout"
        }
      ]
    },
    {
      "cell_type": "markdown",
      "metadata": {
        "id": "kulWVWyb0k8W",
        "colab_type": "text"
      },
      "source": [
        "# Modelling"
      ]
    },
    {
      "cell_type": "code",
      "metadata": {
        "id": "bhW6eT710xlX",
        "colab_type": "code",
        "colab": {}
      },
      "source": [
        "import numpy as np\n",
        "import pandas as pd\n",
        "from sklearn.ensemble import RandomForestRegressor\n",
        "from sklearn.model_selection import GridSearchCV, PredefinedSplit\n",
        "import lightgbm as lgb\n",
        "from sklearn.metrics import mean_squared_error\n",
        "\n",
        "def clip20(x):\n",
        "    return np.clip(x, 0, 20)\n",
        "\n",
        "def clip40(x):\n",
        "    return np.clip(x, 0, 20)\n",
        "def rmse(*args):\n",
        "    return np.sqrt(mean_squared_error(*args))"
      ],
      "execution_count": 0,
      "outputs": []
    },
    {
      "cell_type": "markdown",
      "metadata": {
        "id": "VZxFYCjW0ydn",
        "colab_type": "text"
      },
      "source": [
        "### LightGBM"
      ]
    },
    {
      "cell_type": "code",
      "metadata": {
        "id": "EQ4hG5Fq0kgB",
        "colab_type": "code",
        "colab": {
          "base_uri": "https://localhost:8080/",
          "height": 168,
          "referenced_widgets": [
            "1f42fa2f385b4ec5a592ced15807fc66",
            "a980fb61a40a47b08e6e6a4d9223e82c",
            "9b36485ced7d4b53920f41d1b2265fd4",
            "8a5976b2a2d547cf878d5894bc250b4d",
            "f94f96068c3d4414a7af618d1c0296ab",
            "a69bd4cb3c3440158ddd4d047fc370dc",
            "414ba962b2e44165a3bb46a416b47a15",
            "7e8ccd5f8dd54f0198dee2b0fd09cdeb"
          ]
        },
        "outputId": "bea881a0-b262-4ad6-bee1-b4ec73b46aea"
      },
      "source": [
        "learning_rates = [0.01, 0.03, 0.05, 0.07, 0.09, 0.1]\n",
        "best_rmse = 9999999999999\n",
        "for lr in tqdm_notebook(learning_rates):\n",
        "    print(\"LR:\", lr)\n",
        "    lgb_params = {\n",
        "               'feature_fraction': 0.75,\n",
        "               'metric': 'rmse',\n",
        "               'nthread':1, \n",
        "               'min_data_in_leaf': 2**7, \n",
        "               'bagging_fraction': 0.75, \n",
        "               'learning_rate': lr, \n",
        "               'objective': 'mse', \n",
        "               'bagging_seed': 2**7, \n",
        "               'num_leaves': 2**7,\n",
        "               'bagging_freq':1,\n",
        "               'verbose':1 \n",
        "              }\n",
        "\n",
        "    lgb_model = lgb.train(lgb_params, lgb.Dataset(X_train, label=clip40(y_train)), int(100 * (lr / 0.03)))\n",
        "    pred_lgb_val = lgb_model.predict(X_val)\n",
        "    score = rmse(clip20(y_val), clip20(pred_lgb_val))\n",
        "\n",
        "    if score < best_rmse:\n",
        "        best_rmse = score\n",
        "        best_lr = lr\n",
        "        best_lgb = lgb_model"
      ],
      "execution_count": 76,
      "outputs": [
        {
          "output_type": "display_data",
          "data": {
            "application/vnd.jupyter.widget-view+json": {
              "model_id": "1f42fa2f385b4ec5a592ced15807fc66",
              "version_minor": 0,
              "version_major": 2
            },
            "text/plain": [
              "HBox(children=(IntProgress(value=0, max=6), HTML(value='')))"
            ]
          },
          "metadata": {
            "tags": []
          }
        },
        {
          "output_type": "stream",
          "text": [
            "LR: 0.01\n",
            "LR: 0.03\n",
            "LR: 0.05\n",
            "LR: 0.07\n",
            "LR: 0.09\n",
            "LR: 0.1\n",
            "\n"
          ],
          "name": "stdout"
        }
      ]
    },
    {
      "cell_type": "code",
      "metadata": {
        "id": "NqEn6m-21G1Q",
        "colab_type": "code",
        "colab": {
          "base_uri": "https://localhost:8080/",
          "height": 34
        },
        "outputId": "316a1878-d59c-40ab-a6a3-4e08976cf832"
      },
      "source": [
        "print(\"Best learning rate is\" + str(best_lr))"
      ],
      "execution_count": 66,
      "outputs": [
        {
          "output_type": "stream",
          "text": [
            "Best learning rate is0.02\n"
          ],
          "name": "stdout"
        }
      ]
    },
    {
      "cell_type": "markdown",
      "metadata": {
        "id": "UdzXaHmA6ZaJ",
        "colab_type": "text"
      },
      "source": [
        "Training whole dataset with best LR"
      ]
    },
    {
      "cell_type": "code",
      "metadata": {
        "id": "YgTs6EaK6Uva",
        "colab_type": "code",
        "colab": {}
      },
      "source": [
        "X = X_train.append(X_val)\n",
        "y = np.append(y_train, y_val)\n",
        "\n",
        "best_lgb_params = {\n",
        "               'feature_fraction': 0.75,\n",
        "               'metric': 'rmse',\n",
        "               'nthread':1, \n",
        "               'min_data_in_leaf': 2**7, \n",
        "               'bagging_fraction': 0.75, \n",
        "               'learning_rate': best_lr, \n",
        "               'objective': 'mse', \n",
        "               'bagging_seed': 2**7, \n",
        "               'num_leaves': 2**7,\n",
        "               'bagging_freq':1,\n",
        "               'verbose':0 \n",
        "              }\n",
        "best_lgb = lgb.train(lgb_params, lgb.Dataset(X, label=clip40(y)), int(100 * (lr / 0.03)))"
      ],
      "execution_count": 0,
      "outputs": []
    },
    {
      "cell_type": "code",
      "metadata": {
        "id": "zedxRDYH9vkD",
        "colab_type": "code",
        "colab": {}
      },
      "source": [
        "filename = 'best_lgb.sav'\n",
        "pickle.dump(best_lgb, open(filename, 'wb'))"
      ],
      "execution_count": 0,
      "outputs": []
    },
    {
      "cell_type": "markdown",
      "metadata": {
        "id": "lALmrOwn7RMZ",
        "colab_type": "text"
      },
      "source": [
        "### Random Forest"
      ]
    },
    {
      "cell_type": "code",
      "metadata": {
        "id": "1yAdZrcNEsM2",
        "colab_type": "code",
        "colab": {}
      },
      "source": [
        "import xgboost as xgb"
      ],
      "execution_count": 0,
      "outputs": []
    },
    {
      "cell_type": "code",
      "metadata": {
        "id": "EoAfmz3e7SOe",
        "colab_type": "code",
        "colab": {}
      },
      "source": [
        "# Using 33rd month as validation\n",
        "dates = all_data['date_block_num']\n",
        "boolean_test = (dates.isin([33])) # & (boolean)\n",
        "boolean_train = ~boolean_test\n",
        "dates_train = dates[boolean_train]\n",
        "dates_val  = dates[boolean_test]\n",
        "\n",
        "X_train = all_data.loc[boolean_train].drop(to_drop_cols, axis=1)\n",
        "X_val =  all_data.loc[boolean_test].drop(to_drop_cols, axis=1)\n",
        "\n",
        "y_train = all_data.loc[boolean_train, 'target'].values\n",
        "y_val =  all_data.loc[boolean_test, 'target'].values"
      ],
      "execution_count": 0,
      "outputs": []
    },
    {
      "cell_type": "code",
      "metadata": {
        "id": "sXUmM_xqEgyx",
        "colab_type": "code",
        "colab": {}
      },
      "source": [
        "Train = xgb.DMatrix(X_train, y_train)\n",
        "Val = xgb.DMatrix(X_val, y_val)"
      ],
      "execution_count": 0,
      "outputs": []
    },
    {
      "cell_type": "code",
      "metadata": {
        "id": "8S8JbyvBDbmA",
        "colab_type": "code",
        "colab": {}
      },
      "source": [
        "X = X_train.append(X_val)\n",
        "Y = np.concatenate([y_train, y_val])"
      ],
      "execution_count": 0,
      "outputs": []
    },
    {
      "cell_type": "code",
      "metadata": {
        "id": "bPw0y-ptCLcN",
        "colab_type": "code",
        "colab": {}
      },
      "source": [
        "best_rmse = 9999999999999\n",
        "\n",
        "for max_features in tqdm_notebook([4,6,8]):\n",
        "  for max_depth in [8,10,12]:\n",
        "    rf = RandomForestRegressor(n_estimators=100, n_jobs=4, max_features=max_features, max_depth=max_depth,verbose=5)\n",
        "    rf.fit(X,Y)\n",
        "\n",
        "    pred_rf_val = rf.predict(X_val)\n",
        "    score = rmse(clip20(y_val), clip20(pred_rf_val))\n",
        "\n",
        "    if score<best_rmse:\n",
        "      best_rmse = score\n",
        "      print(\"------Current best_rmse: \",best_rmse,\" ---------\")\n",
        "      best_rf = rf\n",
        "      best_max_features = max_features\n",
        "      best_max_depth = max_depth\n"
      ],
      "execution_count": 0,
      "outputs": []
    },
    {
      "cell_type": "code",
      "metadata": {
        "id": "LGI_iKneKr80",
        "colab_type": "code",
        "colab": {
          "base_uri": "https://localhost:8080/",
          "height": 68
        },
        "outputId": "628769bc-32ad-48d9-fb7b-6846b08cc68e"
      },
      "source": [
        "print(\"Best Rmse is \",best_rmse)\n",
        "print(\"Best max_features is \",best_max_features)\n",
        "print(\"Best max_depth is \",best_max_depth)"
      ],
      "execution_count": 122,
      "outputs": [
        {
          "output_type": "stream",
          "text": [
            "Best Rmse is  0.9556476216505307\n",
            "Best max_features is  8\n",
            "Best Rmse is  12\n"
          ],
          "name": "stdout"
        }
      ]
    },
    {
      "cell_type": "markdown",
      "metadata": {
        "id": "uFrb9j8sVXRE",
        "colab_type": "text"
      },
      "source": [
        "### Fitting best RF on whole dataset"
      ]
    },
    {
      "cell_type": "code",
      "metadata": {
        "id": "P0pJ3WFAU_O_",
        "colab_type": "code",
        "colab": {}
      },
      "source": [
        "X = X_train.append(X_val)\n",
        "y = np.append(y_train, y_val)\n",
        "\n",
        "best_rf_model = RandomForestRegressor(n_estimators=100, n_jobs=4, max_features=best_max_features, max_depth=best_max_depth,verbose=5)\n",
        "best_rf_model.fit(X,clip40(y))"
      ],
      "execution_count": 0,
      "outputs": []
    },
    {
      "cell_type": "code",
      "metadata": {
        "id": "3z3_ZvVZUvUZ",
        "colab_type": "code",
        "colab": {}
      },
      "source": [
        "filename = 'best_rf_model.sav'\n",
        "pickle.dump(best_rf_model, open(filename, 'wb'))"
      ],
      "execution_count": 0,
      "outputs": []
    },
    {
      "cell_type": "markdown",
      "metadata": {
        "id": "9YRYOk4FXmwT",
        "colab_type": "text"
      },
      "source": [
        "## Stacking"
      ]
    },
    {
      "cell_type": "code",
      "metadata": {
        "id": "YAZAZzUYXZJG",
        "colab_type": "code",
        "colab": {
          "base_uri": "https://localhost:8080/",
          "height": 85
        },
        "outputId": "f0b2705f-7997-4d23-fd3e-500b0ded1a3a"
      },
      "source": [
        "pred_lgb_val = clip20(best_lgb.predict(X_val))\n",
        "pred_rf_val = clip20(best_rf_model.predict(X_val.fillna(0)))\n",
        "X_val_level2 = np.c_[pred_rf_val, pred_lgb_val]"
      ],
      "execution_count": 125,
      "outputs": [
        {
          "output_type": "stream",
          "text": [
            "[Parallel(n_jobs=4)]: Using backend ThreadingBackend with 4 concurrent workers.\n",
            "[Parallel(n_jobs=4)]: Done  10 tasks      | elapsed:    0.1s\n",
            "[Parallel(n_jobs=4)]: Done  64 tasks      | elapsed:    0.3s\n",
            "[Parallel(n_jobs=4)]: Done 100 out of 100 | elapsed:    0.5s finished\n"
          ],
          "name": "stderr"
        }
      ]
    },
    {
      "cell_type": "markdown",
      "metadata": {
        "id": "1cYf82avYZbQ",
        "colab_type": "text"
      },
      "source": [
        "### Using LR for stacking on level2 predictions"
      ]
    },
    {
      "cell_type": "code",
      "metadata": {
        "id": "rEY5ibKlYUVc",
        "colab_type": "code",
        "colab": {
          "base_uri": "https://localhost:8080/",
          "height": 34
        },
        "outputId": "5383cfe3-c0be-4223-a136-8409d2f1a5db"
      },
      "source": [
        "lr = LinearRegression()\n",
        "lr.fit(X_val_level2, clip40(y_val))\n",
        "pred_lr_val =  clip20(lr.predict(X_val_level2))\n",
        "print('Rmse for stacking variables is %f' % rmse(clip20(y_val), clip20(pred_lr_val)))"
      ],
      "execution_count": 127,
      "outputs": [
        {
          "output_type": "stream",
          "text": [
            "Rmse for stacking variables is 0.822126\n"
          ],
          "name": "stdout"
        }
      ]
    },
    {
      "cell_type": "markdown",
      "metadata": {
        "id": "ji_eADV4YwnH",
        "colab_type": "text"
      },
      "source": [
        "## Submission"
      ]
    },
    {
      "cell_type": "code",
      "metadata": {
        "id": "VV4wnmv7Yp9y",
        "colab_type": "code",
        "colab": {
          "base_uri": "https://localhost:8080/",
          "height": 85
        },
        "outputId": "33bdb734-6689-4703-f892-b494d416328c"
      },
      "source": [
        "pred_test_rf = best_rf_model.predict(sub_data.drop(to_drop_cols, axis=1).fillna(0))\n",
        "pred_test_lgb = best_lgb.predict(sub_data.drop(to_drop_cols, axis=1).fillna(0))\n",
        "X_test_level2 = np.c_[pred_test_rf, pred_test_lgb]\n",
        "test_pred = clip20(lr.predict(X_test_level2))"
      ],
      "execution_count": 129,
      "outputs": [
        {
          "output_type": "stream",
          "text": [
            "[Parallel(n_jobs=4)]: Using backend ThreadingBackend with 4 concurrent workers.\n",
            "[Parallel(n_jobs=4)]: Done  10 tasks      | elapsed:    0.1s\n",
            "[Parallel(n_jobs=4)]: Done  64 tasks      | elapsed:    0.3s\n",
            "[Parallel(n_jobs=4)]: Done 100 out of 100 | elapsed:    0.5s finished\n"
          ],
          "name": "stderr"
        }
      ]
    },
    {
      "cell_type": "code",
      "metadata": {
        "id": "OzhcvI5FZHCn",
        "colab_type": "code",
        "colab": {}
      },
      "source": [
        "predictions = pd.DataFrame()\n",
        "predictions['shop_id'] = test.shop_id\n",
        "predictions['item_id'] = test.item_id\n",
        "predictions['item_cnt_month'] = test_pred\n",
        "submision = test[['ID', 'shop_id', 'item_id']].merge(predictions, on=['shop_id', 'item_id'], how='left').fillna(0)\n",
        "submision[['ID', 'item_cnt_month']].to_csv('submission.csv',index=False)"
      ],
      "execution_count": 0,
      "outputs": []
    },
    {
      "cell_type": "code",
      "metadata": {
        "id": "Gn2a76fPZN94",
        "colab_type": "code",
        "colab": {
          "base_uri": "https://localhost:8080/",
          "height": 204
        },
        "outputId": "98e72873-d990-4796-efbe-f9ad4cbe6e81"
      },
      "source": [
        "submision.head()"
      ],
      "execution_count": 132,
      "outputs": [
        {
          "output_type": "execute_result",
          "data": {
            "text/html": [
              "<div>\n",
              "<style scoped>\n",
              "    .dataframe tbody tr th:only-of-type {\n",
              "        vertical-align: middle;\n",
              "    }\n",
              "\n",
              "    .dataframe tbody tr th {\n",
              "        vertical-align: top;\n",
              "    }\n",
              "\n",
              "    .dataframe thead th {\n",
              "        text-align: right;\n",
              "    }\n",
              "</style>\n",
              "<table border=\"1\" class=\"dataframe\">\n",
              "  <thead>\n",
              "    <tr style=\"text-align: right;\">\n",
              "      <th></th>\n",
              "      <th>ID</th>\n",
              "      <th>shop_id</th>\n",
              "      <th>item_id</th>\n",
              "      <th>item_cnt_month</th>\n",
              "    </tr>\n",
              "  </thead>\n",
              "  <tbody>\n",
              "    <tr>\n",
              "      <th>0</th>\n",
              "      <td>0</td>\n",
              "      <td>5</td>\n",
              "      <td>5037</td>\n",
              "      <td>0.400325</td>\n",
              "    </tr>\n",
              "    <tr>\n",
              "      <th>1</th>\n",
              "      <td>1</td>\n",
              "      <td>5</td>\n",
              "      <td>5320</td>\n",
              "      <td>0.868182</td>\n",
              "    </tr>\n",
              "    <tr>\n",
              "      <th>2</th>\n",
              "      <td>2</td>\n",
              "      <td>5</td>\n",
              "      <td>5233</td>\n",
              "      <td>1.100133</td>\n",
              "    </tr>\n",
              "    <tr>\n",
              "      <th>3</th>\n",
              "      <td>3</td>\n",
              "      <td>5</td>\n",
              "      <td>5232</td>\n",
              "      <td>0.379577</td>\n",
              "    </tr>\n",
              "    <tr>\n",
              "      <th>4</th>\n",
              "      <td>4</td>\n",
              "      <td>5</td>\n",
              "      <td>5268</td>\n",
              "      <td>1.493976</td>\n",
              "    </tr>\n",
              "  </tbody>\n",
              "</table>\n",
              "</div>"
            ],
            "text/plain": [
              "   ID  shop_id  item_id  item_cnt_month\n",
              "0   0        5     5037        0.400325\n",
              "1   1        5     5320        0.868182\n",
              "2   2        5     5233        1.100133\n",
              "3   3        5     5232        0.379577\n",
              "4   4        5     5268        1.493976"
            ]
          },
          "metadata": {
            "tags": []
          },
          "execution_count": 132
        }
      ]
    }
  ]
}